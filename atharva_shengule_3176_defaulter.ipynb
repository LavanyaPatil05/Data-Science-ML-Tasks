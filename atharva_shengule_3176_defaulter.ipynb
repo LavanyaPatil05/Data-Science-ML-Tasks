{
  "nbformat": 4,
  "nbformat_minor": 0,
  "metadata": {
    "colab": {
      "provenance": []
    },
    "kernelspec": {
      "name": "python3",
      "display_name": "Python 3"
    },
    "language_info": {
      "name": "python"
    }
  },
  "cells": [
    {
      "cell_type": "code",
      "source": [
        "pip install ucimlrepo"
      ],
      "metadata": {
        "colab": {
          "base_uri": "https://localhost:8080/"
        },
        "id": "upM3IUmM0TAT",
        "outputId": "67cf44d0-2293-4daa-8735-f09125603875"
      },
      "execution_count": 1,
      "outputs": [
        {
          "output_type": "stream",
          "name": "stdout",
          "text": [
            "Collecting ucimlrepo\n",
            "  Downloading ucimlrepo-0.0.7-py3-none-any.whl.metadata (5.5 kB)\n",
            "Requirement already satisfied: pandas>=1.0.0 in /usr/local/lib/python3.10/dist-packages (from ucimlrepo) (2.2.2)\n",
            "Requirement already satisfied: certifi>=2020.12.5 in /usr/local/lib/python3.10/dist-packages (from ucimlrepo) (2024.8.30)\n",
            "Requirement already satisfied: numpy>=1.22.4 in /usr/local/lib/python3.10/dist-packages (from pandas>=1.0.0->ucimlrepo) (1.26.4)\n",
            "Requirement already satisfied: python-dateutil>=2.8.2 in /usr/local/lib/python3.10/dist-packages (from pandas>=1.0.0->ucimlrepo) (2.8.2)\n",
            "Requirement already satisfied: pytz>=2020.1 in /usr/local/lib/python3.10/dist-packages (from pandas>=1.0.0->ucimlrepo) (2024.2)\n",
            "Requirement already satisfied: tzdata>=2022.7 in /usr/local/lib/python3.10/dist-packages (from pandas>=1.0.0->ucimlrepo) (2024.2)\n",
            "Requirement already satisfied: six>=1.5 in /usr/local/lib/python3.10/dist-packages (from python-dateutil>=2.8.2->pandas>=1.0.0->ucimlrepo) (1.16.0)\n",
            "Downloading ucimlrepo-0.0.7-py3-none-any.whl (8.0 kB)\n",
            "Installing collected packages: ucimlrepo\n",
            "Successfully installed ucimlrepo-0.0.7\n"
          ]
        }
      ]
    },
    {
      "cell_type": "code",
      "source": [
        "import pandas as pd\n",
        "from sklearn.datasets import fetch_openml\n",
        "from sklearn.model_selection import train_test_split\n",
        "from sklearn.preprocessing import StandardScaler\n",
        "from sklearn.svm import SVC\n",
        "from sklearn.tree import DecisionTreeClassifier\n",
        "from sklearn.metrics import accuracy_score, classification_report\n",
        "\n",
        "# Correct OpenML dataset ID for Heart Disease\n",
        "heart_disease = fetch_openml(data_id=37, as_frame=True)  # Heart Disease dataset\n",
        "\n",
        "# Features and target\n",
        "X = heart_disease.data.copy()  # Create a new copy of the data to avoid the warning\n",
        "y = heart_disease.target\n",
        "\n",
        "# Check unique values of target (y) to verify the classes\n",
        "print(\"Unique target classes:\", y.unique())  # This helps us understand the target values\n",
        "\n",
        "# Handle missing values by imputing them (using median or mean)\n",
        "X = X.fillna(X.median())  # Use a new DataFrame instead of modifying in place\n",
        "\n",
        "# Split the data into training and testing sets (80% training, 20% testing)\n",
        "X_train, X_test, y_train, y_test = train_test_split(X, y, test_size=0.2, random_state=42)\n",
        "\n",
        "# Feature scaling (important for SVMs)\n",
        "scaler = StandardScaler()\n",
        "X_train_scaled = scaler.fit_transform(X_train)\n",
        "X_test_scaled = scaler.transform(X_test)\n",
        "\n",
        "# Train an SVM model\n",
        "svm_model = SVC(kernel='linear', random_state=42)\n",
        "svm_model.fit(X_train_scaled, y_train)\n",
        "\n",
        "# Train a Decision Tree model\n",
        "dt_model = DecisionTreeClassifier(random_state=42)\n",
        "dt_model.fit(X_train, y_train)\n",
        "\n",
        "# Function to make predictions based on user input\n",
        "def predict_heart_disease(input_data, model, scaler):\n",
        "    # Convert input data to dataframe for consistent preprocessing\n",
        "    input_df = pd.DataFrame([input_data], columns=X.columns)  # Ensure input matches feature names\n",
        "\n",
        "    # Ensure the input has no NaN values (fill with median if necessary)\n",
        "    input_df = input_df.fillna(X.median())  # Use the same strategy as used for training data\n",
        "\n",
        "    # Scale the input data (same scaling used during training)\n",
        "    input_scaled = scaler.transform(input_df)\n",
        "\n",
        "    # Make prediction using the chosen model\n",
        "    prediction = model.predict(input_scaled)\n",
        "\n",
        "    # Return the result\n",
        "    return prediction[0]  # Return the first (and only) prediction\n",
        "\n",
        "# Input format should match the feature names and number of features used during training\n",
        "user_input = {\n",
        "    'age': 100,          # Older age increases risk\n",
        "    'sex': 1,           # Male\n",
        "    'cp': 2,            # Atypical angina (more serious than non-anginal pain)\n",
        "    'trestbps': 180,    # Significantly high resting blood pressure\n",
        "    'chol': 350,        # Very high cholesterol level\n",
        "    'fbs': 1,           # Fasting blood sugar > 120 mg/dl\n",
        "    'restecg': 2,       # Showing probable or definite left ventricular hypertrophy\n",
        "    'thalach': 110,     # Low maximum heart rate\n",
        "    'exang': 1,         # Exercise-induced angina present\n",
        "    'oldpeak': 3.0,     # Higher ST depression, indicating more serious ischemia\n",
        "    'slope': 2,         # Flat ST segment (more concerning)\n",
        "    'ca': 3,            # 3 major vessels colored by fluoroscopy (maximum severity)\n",
        "    'thal': 7           # Reversible defect (indicative of potential heart problems)\n",
        "}\n",
        "\n",
        "\n",
        "# Predict using SVM model\n",
        "svm_prediction = predict_heart_disease(user_input, svm_model, scaler)\n",
        "print(\"SVM Prediction:\", svm_prediction)\n",
        "if svm_prediction == 'tested_positive':\n",
        "    print(\"SVM Model: You may have heart disease.\")\n",
        "else:\n",
        "    print(\"SVM Model: You are unlikely to have heart disease.\")\n",
        "\n",
        "# Predict using Decision Tree model\n",
        "dt_prediction = predict_heart_disease(user_input, dt_model, scaler)\n",
        "print(\"Decision Tree Prediction:\", dt_prediction)\n",
        "if dt_prediction == 'tested_positive':\n",
        "    print(\"Decision Tree Model: You may have heart disease.\")\n",
        "else:\n",
        "    print(\"Decision Tree Model: You are unlikely to have heart disease.\")\n"
      ],
      "metadata": {
        "colab": {
          "base_uri": "https://localhost:8080/"
        },
        "id": "fOrO8rWc6GMl",
        "outputId": "c3491a6d-c3c1-4561-c7f6-9f1f8f511a64"
      },
      "execution_count": 18,
      "outputs": [
        {
          "output_type": "stream",
          "name": "stdout",
          "text": [
            "Unique target classes: ['tested_positive', 'tested_negative']\n",
            "Categories (2, object): ['tested_negative', 'tested_positive']\n",
            "SVM Prediction: tested_positive\n",
            "SVM Model: You may have heart disease.\n",
            "Decision Tree Prediction: tested_negative\n",
            "Decision Tree Model: You are unlikely to have heart disease.\n"
          ]
        },
        {
          "output_type": "stream",
          "name": "stderr",
          "text": [
            "/usr/local/lib/python3.10/dist-packages/sklearn/base.py:493: UserWarning: X does not have valid feature names, but DecisionTreeClassifier was fitted with feature names\n",
            "  warnings.warn(\n"
          ]
        }
      ]
    },
    {
      "cell_type": "code",
      "source": [
        "import pandas as pd\n",
        "from sklearn.datasets import fetch_openml\n",
        "from sklearn.model_selection import train_test_split\n",
        "from sklearn.preprocessing import StandardScaler\n",
        "from sklearn.svm import SVC\n",
        "from sklearn.tree import DecisionTreeClassifier\n",
        "from sklearn.metrics import accuracy_score, classification_report\n",
        "\n",
        "# Correct OpenML dataset ID for Heart Disease\n",
        "heart_disease = fetch_openml(data_id=37, as_frame=True)  # Heart Disease dataset\n",
        "\n",
        "# Features and target\n",
        "X = heart_disease.data.copy()  # Create a new copy of the data to avoid the warning\n",
        "y = heart_disease.target\n",
        "\n",
        "# Check unique values of target (y) to verify the classes\n",
        "print(\"Unique target classes:\", y.unique())  # This helps us understand the target values\n",
        "\n",
        "# Handle missing values by imputing them (using median or mean)\n",
        "X = X.fillna(X.median())  # Use a new DataFrame instead of modifying in place\n",
        "\n",
        "# Split the data into training and testing sets (80% training, 20% testing)\n",
        "X_train, X_test, y_train, y_test = train_test_split(X, y, test_size=0.2, random_state=42)\n",
        "\n",
        "# Feature scaling (important for SVMs)\n",
        "scaler = StandardScaler()\n",
        "X_train_scaled = scaler.fit_transform(X_train)\n",
        "X_test_scaled = scaler.transform(X_test)\n",
        "\n",
        "# Train an SVM model\n",
        "svm_model = SVC(kernel='linear', random_state=42)\n",
        "svm_model.fit(X_train_scaled, y_train)\n",
        "\n",
        "# Train a Decision Tree model\n",
        "dt_model = DecisionTreeClassifier(random_state=42)\n",
        "dt_model.fit(X_train, y_train)\n",
        "\n",
        "# Function to make predictions based on user input\n",
        "def predict_heart_disease(input_data, model, scaler):\n",
        "    # Convert input data to dataframe for consistent preprocessing\n",
        "    input_df = pd.DataFrame([input_data], columns=X.columns)  # Ensure input matches feature names\n",
        "\n",
        "    # Ensure the input has no NaN values (fill with median if necessary)\n",
        "    input_df = input_df.fillna(X.median())  # Use the same strategy as used for training data\n",
        "\n",
        "    # Scale the input data (same scaling used during training)\n",
        "    input_scaled = scaler.transform(input_df)\n",
        "\n",
        "    # Make prediction using the chosen model\n",
        "    prediction = model.predict(input_scaled)\n",
        "\n",
        "    # Return the result\n",
        "    return prediction[0]  # Return the first (and only) prediction\n",
        "\n",
        "# Input format should match the feature names and number of features used during training\n",
        "user_input = {\n",
        "    'age': 63,          # Age of the individual (63 years)\n",
        "    'sex': 1,           # Sex (1 = male, 0 = female)\n",
        "    'cp': 1,            # Chest pain type (1 = typical angina, 2 = atypical angina, 3 = non-anginal pain, 4 = asymptomatic)\n",
        "    'trestbps': 145,    # Resting blood pressure (145 mm Hg)\n",
        "    'chol': 233,        # Serum cholesterol in mg/dl (233 mg/dl)\n",
        "    'fbs': 1,           # Fasting blood sugar > 120 mg/dl (1 = true, 0 = false)\n",
        "    'restecg': 2,       # Resting electrocardiographic results (0 = normal, 1 = having ST-T wave abnormality, 2 = showing probable or definite left ventricular hypertrophy)\n",
        "    'thalach': 150,     # Maximum heart rate achieved (150 bpm)\n",
        "    'exang': 0,         # Exercise-induced angina (1 = yes, 0 = no)\n",
        "    'oldpeak': 2.3,     # ST depression induced by exercise relative to rest\n",
        "    'slope': 3,         # Slope of the peak exercise ST segment (1 = upsloping, 2 = flat, 3 = downsloping)\n",
        "    'ca': 0,            # Number of major vessels (0-3) colored by fluoroscopy (0 = none)\n",
        "    'thal': 6           # Thalassemia (3 = normal, 6 = fixed defect, 7 = reversible defect)\n",
        "}\n",
        "\n",
        "\n",
        "\n",
        "# Predict using SVM model\n",
        "svm_prediction = predict_heart_disease(user_input, svm_model, scaler)\n",
        "print(\"SVM Prediction:\", svm_prediction)\n",
        "if svm_prediction == 'tested_positive':\n",
        "    print(\"SVM Model: You may have heart disease.\")\n",
        "else:\n",
        "    print(\"SVM Model: You are unlikely to have heart disease.\")\n",
        "\n",
        "# Predict using Decision Tree model\n",
        "dt_prediction = predict_heart_disease(user_input, dt_model, scaler)\n",
        "print(\"Decision Tree Prediction:\", dt_prediction)\n",
        "if dt_prediction == 'tested_positive':\n",
        "    print(\"Decision Tree Model: You may have heart disease.\")\n",
        "else:\n",
        "    print(\"Decision Tree Model: You are unlikely to have heart disease.\")\n"
      ],
      "metadata": {
        "colab": {
          "base_uri": "https://localhost:8080/"
        },
        "id": "uXDl9sb1H11E",
        "outputId": "510a87fc-fc00-4c02-f65f-f29ab1eb5987"
      },
      "execution_count": 19,
      "outputs": [
        {
          "output_type": "stream",
          "name": "stdout",
          "text": [
            "Unique target classes: ['tested_positive', 'tested_negative']\n",
            "Categories (2, object): ['tested_negative', 'tested_positive']\n",
            "SVM Prediction: tested_negative\n",
            "SVM Model: You are unlikely to have heart disease.\n",
            "Decision Tree Prediction: tested_negative\n",
            "Decision Tree Model: You are unlikely to have heart disease.\n"
          ]
        },
        {
          "output_type": "stream",
          "name": "stderr",
          "text": [
            "/usr/local/lib/python3.10/dist-packages/sklearn/base.py:493: UserWarning: X does not have valid feature names, but DecisionTreeClassifier was fitted with feature names\n",
            "  warnings.warn(\n"
          ]
        }
      ]
    }
  ]
}